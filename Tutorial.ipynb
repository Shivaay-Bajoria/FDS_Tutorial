{
 "cells": [
  {
   "cell_type": "code",
   "execution_count": 1,
   "id": "7e57c608-67aa-4544-ac7f-e7d5000b7533",
   "metadata": {},
   "outputs": [
    {
     "name": "stdout",
     "output_type": "stream",
     "text": [
      "[1 2 3]\n"
     ]
    }
   ],
   "source": [
    "#Question 1\n",
    "#Creating a 1D Array\n",
    "import numpy as np\n",
    "\n",
    "arr = np.array([1,2,3])\n",
    "print(arr)"
   ]
  },
  {
   "cell_type": "code",
   "execution_count": 5,
   "id": "2243e648-9db5-44cd-af7f-2848ec68d7a0",
   "metadata": {},
   "outputs": [
    {
     "name": "stdout",
     "output_type": "stream",
     "text": [
      "[[ 0  1  2  3  4]\n",
      " [ 5  6  7  8  9]\n",
      " [10 11 12 13 14]\n",
      " [15 16 17 18 19]\n",
      " [20 21 22 23 24]\n",
      " [25 26 27 28 29]]\n"
     ]
    }
   ],
   "source": [
    "#Question 2\n",
    "#Creating a 2D Array with 6 rows and 5 columns\n",
    "import numpy as np\n",
    "\n",
    "arr = np.arange(30).reshape(6,5)\n",
    "print(arr)"
   ]
  },
  {
   "cell_type": "code",
   "execution_count": 7,
   "id": "b8258e08-679b-457a-b5ec-6f9055f2c0f7",
   "metadata": {},
   "outputs": [
    {
     "name": "stdout",
     "output_type": "stream",
     "text": [
      "[[0. 0. 0. 0.]\n",
      " [0. 0. 0. 0.]]\n",
      "[[1. 1. 1. 1.]\n",
      " [1. 1. 1. 1.]]\n"
     ]
    }
   ],
   "source": [
    "#Question 3\n",
    "#Fill the Array with zeros and ones\n",
    "import numpy as np\n",
    "\n",
    "arr = np.zeros((2,4))\n",
    "print(arr)\n",
    "arr = np.ones((2,4))\n",
    "print(arr)"
   ]
  },
  {
   "cell_type": "code",
   "execution_count": 9,
   "id": "a477afda-a53e-4eac-ad9f-1b768db5ccd7",
   "metadata": {},
   "outputs": [
    {
     "name": "stdout",
     "output_type": "stream",
     "text": [
      "[[7 7 7 7]\n",
      " [7 7 7 7]]\n"
     ]
    }
   ],
   "source": [
    "#Question 4\n",
    "#Create a 2D Array with filler of 7\n",
    "import numpy as np\n",
    "\n",
    "arr = np.full((2,4), 7)\n",
    "print(arr)"
   ]
  },
  {
   "cell_type": "code",
   "execution_count": 15,
   "id": "55debd35-b0e4-432e-8c39-d3cd4d15367a",
   "metadata": {},
   "outputs": [
    {
     "name": "stdout",
     "output_type": "stream",
     "text": [
      "[[ 0  1  2  3  4  5  6]\n",
      " [ 7  8  9 10 11 12 13]\n",
      " [14 15 16 17 18 19 20]\n",
      " [21 22 23 24 25 26 27]\n",
      " [28 29 30 31 32 33 34]\n",
      " [35 36 37 38 39 40 41]\n",
      " [42 43 44 45 46 47 48]]\n",
      "[[14 15 16]\n",
      " [21 22 23]\n",
      " [28 29 30]]\n",
      "[[ 0  1  2  3  4]\n",
      " [ 7  8  9 10 11]]\n",
      "[[16 17]\n",
      " [23 24]]\n",
      "[[32 33]\n",
      " [39 40]]\n",
      "[[24 25 26]\n",
      " [31 32 33]\n",
      " [38 39 40]]\n"
     ]
    }
   ],
   "source": [
    "#Question 5\n",
    "#Implement Slicing\n",
    "import numpy as np\n",
    "\n",
    "arr = np.arange(49).reshape(7,7)\n",
    "#Prt 1\n",
    "print(arr[:,:])\n",
    "#Prt 2\n",
    "print(arr[2:5, 0:3])\n",
    "#Prt 3\n",
    "print(arr[0:2, 0:5])\n",
    "#Prt 4\n",
    "print(arr[2:4, 2:4])\n",
    "#Prt 5\n",
    "print(arr[-3:-1, -3:-1])\n",
    "#Prt 6\n",
    "print(arr[-4:-1, -4:-1])"
   ]
  },
  {
   "cell_type": "code",
   "execution_count": 17,
   "id": "18436d4a-cc03-4c3e-8c3c-fe7337fa3aa0",
   "metadata": {},
   "outputs": [
    {
     "name": "stdout",
     "output_type": "stream",
     "text": [
      "1\n",
      "2\n",
      "3\n"
     ]
    }
   ],
   "source": [
    "#Question 6\n",
    "#Check the dimensions of the array\n",
    "import numpy as np\n",
    "\n",
    "arr = np.array([1, 2, 3, 4])\n",
    "arr1 = np.array([[1, 2, 3], [4, 5, 6]])\n",
    "arr2 = np.array([[[1, 2, 3], [4, 5, 6]], [[7, 8, 9], [10, 11, 12]]])\n",
    "print(arr.ndim)\n",
    "print(arr1.ndim)\n",
    "print(arr2.ndim)"
   ]
  },
  {
   "cell_type": "code",
   "execution_count": 19,
   "id": "f840e7b5-07d6-4819-be62-db96d7f5eaec",
   "metadata": {},
   "outputs": [
    {
     "name": "stdout",
     "output_type": "stream",
     "text": [
      "[[[[[[[[2 2 2 2]]]]]]]]\n"
     ]
    }
   ],
   "source": [
    "#Question 7\n",
    "#Create 8D Array with value [2, 2, 2, 2]\n",
    "import numpy as np\n",
    "\n",
    "arr = np.array([2, 2, 2, 2], ndmin = 8)\n",
    "print(arr)"
   ]
  },
  {
   "cell_type": "code",
   "execution_count": null,
   "id": "60d846ea-81ff-4fcf-a015-76a1d9376a2d",
   "metadata": {},
   "outputs": [],
   "source": []
  }
 ],
 "metadata": {
  "kernelspec": {
   "display_name": "Python 3 (ipykernel)",
   "language": "python",
   "name": "python3"
  },
  "language_info": {
   "codemirror_mode": {
    "name": "ipython",
    "version": 3
   },
   "file_extension": ".py",
   "mimetype": "text/x-python",
   "name": "python",
   "nbconvert_exporter": "python",
   "pygments_lexer": "ipython3",
   "version": "3.12.4"
  }
 },
 "nbformat": 4,
 "nbformat_minor": 5
}
