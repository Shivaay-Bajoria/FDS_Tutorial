{
 "cells": [
  {
   "cell_type": "code",
   "execution_count": 3,
   "id": "9902df1b-615d-4aa3-a1b0-a75571d22d6d",
   "metadata": {},
   "outputs": [
    {
     "name": "stdout",
     "output_type": "stream",
     "text": [
      "  C_CONTIGUOUS : True\n",
      "  F_CONTIGUOUS : True\n",
      "  OWNDATA : True\n",
      "  WRITEABLE : True\n",
      "  ALIGNED : True\n",
      "  WRITEBACKIFCOPY : False\n",
      "\n"
     ]
    }
   ],
   "source": [
    "#ndarray.flags\n",
    "import numpy as np\n",
    "\n",
    "arr = np.array([1,2,3])\n",
    "print(arr.flags)"
   ]
  },
  {
   "cell_type": "code",
   "execution_count": 9,
   "id": "5a5a73cb-037b-4db4-9641-12dd06edc591",
   "metadata": {},
   "outputs": [
    {
     "name": "stdout",
     "output_type": "stream",
     "text": [
      "(2, 1, 3)\n"
     ]
    }
   ],
   "source": [
    "#ndarray.shape\n",
    "import numpy as np\n",
    "\n",
    "arr = np.array([[[1,2,3]],[[10, 6, 7]]])\n",
    "print(arr.shape)"
   ]
  },
  {
   "cell_type": "code",
   "execution_count": 11,
   "id": "c3d0638c-df62-4846-88ef-d55bdf5a3af4",
   "metadata": {},
   "outputs": [
    {
     "name": "stdout",
     "output_type": "stream",
     "text": [
      "(12, 4)\n"
     ]
    }
   ],
   "source": [
    "#ndarray.strides\n",
    "import numpy as np\n",
    "\n",
    "arr = np.array([[1, 2, 3], [1, 2, 3]])\n",
    "print(arr.strides)"
   ]
  },
  {
   "cell_type": "code",
   "execution_count": 13,
   "id": "2cd78501-bf93-4f8f-a759-80cbbc963672",
   "metadata": {},
   "outputs": [
    {
     "name": "stdout",
     "output_type": "stream",
     "text": [
      "6\n"
     ]
    }
   ],
   "source": [
    "#ndarray.ndim\n",
    "import numpy as np\n",
    "\n",
    "arr = np.array([2,2,2,2], ndmin = 6)\n",
    "print(arr.ndim)"
   ]
  },
  {
   "cell_type": "code",
   "execution_count": 15,
   "id": "151f6108-d335-4a14-8e64-26bbde18a296",
   "metadata": {},
   "outputs": [
    {
     "name": "stdout",
     "output_type": "stream",
     "text": [
      "<memory at 0x000001BBBAE0C2B0>\n"
     ]
    }
   ],
   "source": [
    "#ndarray.data\n",
    "import numpy as np\n",
    "\n",
    "arr = np.array([[1, 2, 3], [4, 5, 6]])\n",
    "print(arr.data)"
   ]
  },
  {
   "cell_type": "code",
   "execution_count": 17,
   "id": "29d91c21-b4a0-4bda-bda8-710b5b8ef33d",
   "metadata": {},
   "outputs": [
    {
     "name": "stdout",
     "output_type": "stream",
     "text": [
      "30\n"
     ]
    }
   ],
   "source": [
    "#ndarray.size\n",
    "import numpy as np\n",
    "\n",
    "arr = np.arange(30)\n",
    "print(arr.size)"
   ]
  },
  {
   "cell_type": "code",
   "execution_count": 19,
   "id": "6dae867a-a94d-4fc7-8823-97678537e1fd",
   "metadata": {},
   "outputs": [
    {
     "name": "stdout",
     "output_type": "stream",
     "text": [
      "4\n"
     ]
    }
   ],
   "source": [
    "#ndarray.itemsize\n",
    "import numpy as np\n",
    "\n",
    "arr = np.array([[[1, 2, 3]], [[3, 4, 5]]])\n",
    "print(arr.itemsize)"
   ]
  },
  {
   "cell_type": "code",
   "execution_count": 21,
   "id": "f1784722-10a4-4719-abac-c7ac38b955dc",
   "metadata": {},
   "outputs": [
    {
     "name": "stdout",
     "output_type": "stream",
     "text": [
      "None\n"
     ]
    }
   ],
   "source": [
    "#ndarray.base\n",
    "import numpy as np\n",
    "\n",
    "arr = np.arange(15)\n",
    "print(arr.base)"
   ]
  },
  {
   "cell_type": "code",
   "execution_count": 23,
   "id": "4f44d0a3-3797-4825-b9db-0e9307ad84e7",
   "metadata": {},
   "outputs": [
    {
     "name": "stdout",
     "output_type": "stream",
     "text": [
      "56\n"
     ]
    }
   ],
   "source": [
    "#ndarray.nbytes\n",
    "import numpy as np\n",
    "\n",
    "arr = np.array([[1, 2, 3, 4, 5, 6, 7], [1, 2, 3, 4, 5, 6, 7]])\n",
    "print(arr.nbytes)"
   ]
  },
  {
   "cell_type": "code",
   "execution_count": 25,
   "id": "cfab57c9-809a-457f-9cdd-422a4b2ec531",
   "metadata": {},
   "outputs": [
    {
     "name": "stdout",
     "output_type": "stream",
     "text": [
      "[1 2 3]\n"
     ]
    }
   ],
   "source": [
    "#ndarray.T\n",
    "import numpy as np\n",
    "\n",
    "arr = np.array([1, 2, 3])\n",
    "print(arr.T)"
   ]
  },
  {
   "cell_type": "code",
   "execution_count": 29,
   "id": "da542e14-669b-49b3-887a-58454bc623e6",
   "metadata": {},
   "outputs": [
    {
     "name": "stdout",
     "output_type": "stream",
     "text": [
      "[1. 2. 5.]\n"
     ]
    }
   ],
   "source": [
    "#ndarray.real\n",
    "import numpy as np\n",
    "\n",
    "arr = np.array([1+3j, 2+4j, 5+6j])\n",
    "print(arr.real)"
   ]
  },
  {
   "cell_type": "code",
   "execution_count": null,
   "id": "917d64a5-539f-44ec-b763-90ae8132bdd7",
   "metadata": {},
   "outputs": [],
   "source": [
    "#ndarray.imag\n",
    "import numpy as np\n",
    "\n",
    "arr = np.array([1+3j, 4+7j, 7+8j])\n",
    "print"
   ]
  }
 ],
 "metadata": {
  "kernelspec": {
   "display_name": "Python 3 (ipykernel)",
   "language": "python",
   "name": "python3"
  },
  "language_info": {
   "codemirror_mode": {
    "name": "ipython",
    "version": 3
   },
   "file_extension": ".py",
   "mimetype": "text/x-python",
   "name": "python",
   "nbconvert_exporter": "python",
   "pygments_lexer": "ipython3",
   "version": "3.12.4"
  }
 },
 "nbformat": 4,
 "nbformat_minor": 5
}
